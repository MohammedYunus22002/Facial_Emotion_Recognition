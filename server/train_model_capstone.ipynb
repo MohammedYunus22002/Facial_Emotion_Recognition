{
  "cells": [
    {
      "cell_type": "markdown",
      "source": [
        "**Downloading Tensorflow version 2.10.1**"
      ],
      "metadata": {
        "id": "QOvCt2i1Jgz3"
      }
    },
    {
      "cell_type": "code",
      "source": [
        "# Install TensorFlow 2.10.1\n",
        "!pip install tensorflow==2.10.1"
      ],
      "metadata": {
        "id": "sesIn-3HJm61",
        "colab": {
          "base_uri": "https://localhost:8080/",
          "height": 1000
        },
        "outputId": "5535b180-daa5-45fe-fa85-fcc82799f8d1"
      },
      "execution_count": 1,
      "outputs": [
        {
          "output_type": "stream",
          "name": "stdout",
          "text": [
            "Collecting tensorflow==2.10.1\n",
            "  Downloading tensorflow-2.10.1-cp310-cp310-manylinux_2_17_x86_64.manylinux2014_x86_64.whl.metadata (3.1 kB)\n",
            "Requirement already satisfied: absl-py>=1.0.0 in /usr/local/lib/python3.10/dist-packages (from tensorflow==2.10.1) (1.4.0)\n",
            "Requirement already satisfied: astunparse>=1.6.0 in /usr/local/lib/python3.10/dist-packages (from tensorflow==2.10.1) (1.6.3)\n",
            "Requirement already satisfied: flatbuffers>=2.0 in /usr/local/lib/python3.10/dist-packages (from tensorflow==2.10.1) (24.3.25)\n",
            "Collecting gast<=0.4.0,>=0.2.1 (from tensorflow==2.10.1)\n",
            "  Downloading gast-0.4.0-py3-none-any.whl.metadata (1.1 kB)\n",
            "Requirement already satisfied: google-pasta>=0.1.1 in /usr/local/lib/python3.10/dist-packages (from tensorflow==2.10.1) (0.2.0)\n",
            "Requirement already satisfied: grpcio<2.0,>=1.24.3 in /usr/local/lib/python3.10/dist-packages (from tensorflow==2.10.1) (1.67.1)\n",
            "Requirement already satisfied: h5py>=2.9.0 in /usr/local/lib/python3.10/dist-packages (from tensorflow==2.10.1) (3.12.1)\n",
            "Collecting keras<2.11,>=2.10.0 (from tensorflow==2.10.1)\n",
            "  Downloading keras-2.10.0-py2.py3-none-any.whl.metadata (1.3 kB)\n",
            "Collecting keras-preprocessing>=1.1.1 (from tensorflow==2.10.1)\n",
            "  Downloading Keras_Preprocessing-1.1.2-py2.py3-none-any.whl.metadata (1.9 kB)\n",
            "Requirement already satisfied: libclang>=13.0.0 in /usr/local/lib/python3.10/dist-packages (from tensorflow==2.10.1) (18.1.1)\n",
            "Requirement already satisfied: numpy>=1.20 in /usr/local/lib/python3.10/dist-packages (from tensorflow==2.10.1) (1.26.4)\n",
            "Requirement already satisfied: opt-einsum>=2.3.2 in /usr/local/lib/python3.10/dist-packages (from tensorflow==2.10.1) (3.4.0)\n",
            "Requirement already satisfied: packaging in /usr/local/lib/python3.10/dist-packages (from tensorflow==2.10.1) (24.2)\n",
            "Collecting protobuf<3.20,>=3.9.2 (from tensorflow==2.10.1)\n",
            "  Downloading protobuf-3.19.6-cp310-cp310-manylinux_2_17_x86_64.manylinux2014_x86_64.whl.metadata (787 bytes)\n",
            "Requirement already satisfied: setuptools in /usr/local/lib/python3.10/dist-packages (from tensorflow==2.10.1) (75.1.0)\n",
            "Requirement already satisfied: six>=1.12.0 in /usr/local/lib/python3.10/dist-packages (from tensorflow==2.10.1) (1.16.0)\n",
            "Collecting tensorboard<2.11,>=2.10 (from tensorflow==2.10.1)\n",
            "  Downloading tensorboard-2.10.1-py3-none-any.whl.metadata (1.9 kB)\n",
            "Requirement already satisfied: tensorflow-io-gcs-filesystem>=0.23.1 in /usr/local/lib/python3.10/dist-packages (from tensorflow==2.10.1) (0.37.1)\n",
            "Collecting tensorflow-estimator<2.11,>=2.10.0 (from tensorflow==2.10.1)\n",
            "  Downloading tensorflow_estimator-2.10.0-py2.py3-none-any.whl.metadata (1.3 kB)\n",
            "Requirement already satisfied: termcolor>=1.1.0 in /usr/local/lib/python3.10/dist-packages (from tensorflow==2.10.1) (2.5.0)\n",
            "Requirement already satisfied: typing-extensions>=3.6.6 in /usr/local/lib/python3.10/dist-packages (from tensorflow==2.10.1) (4.12.2)\n",
            "Requirement already satisfied: wrapt>=1.11.0 in /usr/local/lib/python3.10/dist-packages (from tensorflow==2.10.1) (1.16.0)\n",
            "Requirement already satisfied: wheel<1.0,>=0.23.0 in /usr/local/lib/python3.10/dist-packages (from astunparse>=1.6.0->tensorflow==2.10.1) (0.45.0)\n",
            "Requirement already satisfied: google-auth<3,>=1.6.3 in /usr/local/lib/python3.10/dist-packages (from tensorboard<2.11,>=2.10->tensorflow==2.10.1) (2.27.0)\n",
            "Collecting google-auth-oauthlib<0.5,>=0.4.1 (from tensorboard<2.11,>=2.10->tensorflow==2.10.1)\n",
            "  Downloading google_auth_oauthlib-0.4.6-py2.py3-none-any.whl.metadata (2.7 kB)\n",
            "Requirement already satisfied: markdown>=2.6.8 in /usr/local/lib/python3.10/dist-packages (from tensorboard<2.11,>=2.10->tensorflow==2.10.1) (3.7)\n",
            "Requirement already satisfied: requests<3,>=2.21.0 in /usr/local/lib/python3.10/dist-packages (from tensorboard<2.11,>=2.10->tensorflow==2.10.1) (2.32.3)\n",
            "Collecting tensorboard-data-server<0.7.0,>=0.6.0 (from tensorboard<2.11,>=2.10->tensorflow==2.10.1)\n",
            "  Downloading tensorboard_data_server-0.6.1-py3-none-manylinux2010_x86_64.whl.metadata (1.1 kB)\n",
            "Collecting tensorboard-plugin-wit>=1.6.0 (from tensorboard<2.11,>=2.10->tensorflow==2.10.1)\n",
            "  Downloading tensorboard_plugin_wit-1.8.1-py3-none-any.whl.metadata (873 bytes)\n",
            "Requirement already satisfied: werkzeug>=1.0.1 in /usr/local/lib/python3.10/dist-packages (from tensorboard<2.11,>=2.10->tensorflow==2.10.1) (3.1.3)\n",
            "Requirement already satisfied: cachetools<6.0,>=2.0.0 in /usr/local/lib/python3.10/dist-packages (from google-auth<3,>=1.6.3->tensorboard<2.11,>=2.10->tensorflow==2.10.1) (5.5.0)\n",
            "Requirement already satisfied: pyasn1-modules>=0.2.1 in /usr/local/lib/python3.10/dist-packages (from google-auth<3,>=1.6.3->tensorboard<2.11,>=2.10->tensorflow==2.10.1) (0.4.1)\n",
            "Requirement already satisfied: rsa<5,>=3.1.4 in /usr/local/lib/python3.10/dist-packages (from google-auth<3,>=1.6.3->tensorboard<2.11,>=2.10->tensorflow==2.10.1) (4.9)\n",
            "Requirement already satisfied: requests-oauthlib>=0.7.0 in /usr/local/lib/python3.10/dist-packages (from google-auth-oauthlib<0.5,>=0.4.1->tensorboard<2.11,>=2.10->tensorflow==2.10.1) (1.3.1)\n",
            "Requirement already satisfied: charset-normalizer<4,>=2 in /usr/local/lib/python3.10/dist-packages (from requests<3,>=2.21.0->tensorboard<2.11,>=2.10->tensorflow==2.10.1) (3.4.0)\n",
            "Requirement already satisfied: idna<4,>=2.5 in /usr/local/lib/python3.10/dist-packages (from requests<3,>=2.21.0->tensorboard<2.11,>=2.10->tensorflow==2.10.1) (3.10)\n",
            "Requirement already satisfied: urllib3<3,>=1.21.1 in /usr/local/lib/python3.10/dist-packages (from requests<3,>=2.21.0->tensorboard<2.11,>=2.10->tensorflow==2.10.1) (2.2.3)\n",
            "Requirement already satisfied: certifi>=2017.4.17 in /usr/local/lib/python3.10/dist-packages (from requests<3,>=2.21.0->tensorboard<2.11,>=2.10->tensorflow==2.10.1) (2024.8.30)\n",
            "Requirement already satisfied: MarkupSafe>=2.1.1 in /usr/local/lib/python3.10/dist-packages (from werkzeug>=1.0.1->tensorboard<2.11,>=2.10->tensorflow==2.10.1) (3.0.2)\n",
            "Requirement already satisfied: pyasn1<0.7.0,>=0.4.6 in /usr/local/lib/python3.10/dist-packages (from pyasn1-modules>=0.2.1->google-auth<3,>=1.6.3->tensorboard<2.11,>=2.10->tensorflow==2.10.1) (0.6.1)\n",
            "Requirement already satisfied: oauthlib>=3.0.0 in /usr/local/lib/python3.10/dist-packages (from requests-oauthlib>=0.7.0->google-auth-oauthlib<0.5,>=0.4.1->tensorboard<2.11,>=2.10->tensorflow==2.10.1) (3.2.2)\n",
            "Downloading tensorflow-2.10.1-cp310-cp310-manylinux_2_17_x86_64.manylinux2014_x86_64.whl (578.1 MB)\n",
            "\u001b[2K   \u001b[90m━━━━━━━━━━━━━━━━━━━━━━━━━━━━━━━━━━━━━━━━\u001b[0m \u001b[32m578.1/578.1 MB\u001b[0m \u001b[31m3.2 MB/s\u001b[0m eta \u001b[36m0:00:00\u001b[0m\n",
            "\u001b[?25hDownloading gast-0.4.0-py3-none-any.whl (9.8 kB)\n",
            "Downloading keras-2.10.0-py2.py3-none-any.whl (1.7 MB)\n",
            "\u001b[2K   \u001b[90m━━━━━━━━━━━━━━━━━━━━━━━━━━━━━━━━━━━━━━━━\u001b[0m \u001b[32m1.7/1.7 MB\u001b[0m \u001b[31m60.9 MB/s\u001b[0m eta \u001b[36m0:00:00\u001b[0m\n",
            "\u001b[?25hDownloading Keras_Preprocessing-1.1.2-py2.py3-none-any.whl (42 kB)\n",
            "\u001b[2K   \u001b[90m━━━━━━━━━━━━━━━━━━━━━━━━━━━━━━━━━━━━━━━━\u001b[0m \u001b[32m42.6/42.6 kB\u001b[0m \u001b[31m3.2 MB/s\u001b[0m eta \u001b[36m0:00:00\u001b[0m\n",
            "\u001b[?25hDownloading protobuf-3.19.6-cp310-cp310-manylinux_2_17_x86_64.manylinux2014_x86_64.whl (1.1 MB)\n",
            "\u001b[2K   \u001b[90m━━━━━━━━━━━━━━━━━━━━━━━━━━━━━━━━━━━━━━━━\u001b[0m \u001b[32m1.1/1.1 MB\u001b[0m \u001b[31m43.9 MB/s\u001b[0m eta \u001b[36m0:00:00\u001b[0m\n",
            "\u001b[?25hDownloading tensorboard-2.10.1-py3-none-any.whl (5.9 MB)\n",
            "\u001b[2K   \u001b[90m━━━━━━━━━━━━━━━━━━━━━━━━━━━━━━━━━━━━━━━━\u001b[0m \u001b[32m5.9/5.9 MB\u001b[0m \u001b[31m85.3 MB/s\u001b[0m eta \u001b[36m0:00:00\u001b[0m\n",
            "\u001b[?25hDownloading tensorflow_estimator-2.10.0-py2.py3-none-any.whl (438 kB)\n",
            "\u001b[2K   \u001b[90m━━━━━━━━━━━━━━━━━━━━━━━━━━━━━━━━━━━━━━━━\u001b[0m \u001b[32m438.7/438.7 kB\u001b[0m \u001b[31m12.3 MB/s\u001b[0m eta \u001b[36m0:00:00\u001b[0m\n",
            "\u001b[?25hDownloading google_auth_oauthlib-0.4.6-py2.py3-none-any.whl (18 kB)\n",
            "Downloading tensorboard_data_server-0.6.1-py3-none-manylinux2010_x86_64.whl (4.9 MB)\n",
            "\u001b[2K   \u001b[90m━━━━━━━━━━━━━━━━━━━━━━━━━━━━━━━━━━━━━━━━\u001b[0m \u001b[32m4.9/4.9 MB\u001b[0m \u001b[31m77.5 MB/s\u001b[0m eta \u001b[36m0:00:00\u001b[0m\n",
            "\u001b[?25hDownloading tensorboard_plugin_wit-1.8.1-py3-none-any.whl (781 kB)\n",
            "\u001b[2K   \u001b[90m━━━━━━━━━━━━━━━━━━━━━━━━━━━━━━━━━━━━━━━━\u001b[0m \u001b[32m781.3/781.3 kB\u001b[0m \u001b[31m40.0 MB/s\u001b[0m eta \u001b[36m0:00:00\u001b[0m\n",
            "\u001b[?25hInstalling collected packages: tensorboard-plugin-wit, keras, tensorflow-estimator, tensorboard-data-server, protobuf, keras-preprocessing, gast, google-auth-oauthlib, tensorboard, tensorflow\n",
            "  Attempting uninstall: keras\n",
            "    Found existing installation: keras 3.5.0\n",
            "    Uninstalling keras-3.5.0:\n",
            "      Successfully uninstalled keras-3.5.0\n",
            "  Attempting uninstall: tensorboard-data-server\n",
            "    Found existing installation: tensorboard-data-server 0.7.2\n",
            "    Uninstalling tensorboard-data-server-0.7.2:\n",
            "      Successfully uninstalled tensorboard-data-server-0.7.2\n",
            "  Attempting uninstall: protobuf\n",
            "    Found existing installation: protobuf 4.25.5\n",
            "    Uninstalling protobuf-4.25.5:\n",
            "      Successfully uninstalled protobuf-4.25.5\n",
            "  Attempting uninstall: gast\n",
            "    Found existing installation: gast 0.6.0\n",
            "    Uninstalling gast-0.6.0:\n",
            "      Successfully uninstalled gast-0.6.0\n",
            "  Attempting uninstall: google-auth-oauthlib\n",
            "    Found existing installation: google-auth-oauthlib 1.2.1\n",
            "    Uninstalling google-auth-oauthlib-1.2.1:\n",
            "      Successfully uninstalled google-auth-oauthlib-1.2.1\n",
            "  Attempting uninstall: tensorboard\n",
            "    Found existing installation: tensorboard 2.17.1\n",
            "    Uninstalling tensorboard-2.17.1:\n",
            "      Successfully uninstalled tensorboard-2.17.1\n",
            "  Attempting uninstall: tensorflow\n",
            "    Found existing installation: tensorflow 2.17.1\n",
            "    Uninstalling tensorflow-2.17.1:\n",
            "      Successfully uninstalled tensorflow-2.17.1\n",
            "\u001b[31mERROR: pip's dependency resolver does not currently take into account all the packages that are installed. This behaviour is the source of the following dependency conflicts.\n",
            "google-ai-generativelanguage 0.6.10 requires protobuf!=4.21.0,!=4.21.1,!=4.21.2,!=4.21.3,!=4.21.4,!=4.21.5,<6.0.0dev,>=3.20.2, but you have protobuf 3.19.6 which is incompatible.\n",
            "google-cloud-aiplatform 1.71.1 requires protobuf!=4.21.0,!=4.21.1,!=4.21.2,!=4.21.3,!=4.21.4,!=4.21.5,<6.0.0dev,>=3.20.2, but you have protobuf 3.19.6 which is incompatible.\n",
            "google-cloud-bigquery-connection 1.16.1 requires protobuf!=4.21.0,!=4.21.1,!=4.21.2,!=4.21.3,!=4.21.4,!=4.21.5,<6.0.0dev,>=3.20.2, but you have protobuf 3.19.6 which is incompatible.\n",
            "google-cloud-bigquery-storage 2.27.0 requires protobuf!=3.20.0,!=3.20.1,!=4.21.0,!=4.21.1,!=4.21.2,!=4.21.3,!=4.21.4,!=4.21.5,<6.0.0dev,>=3.20.2, but you have protobuf 3.19.6 which is incompatible.\n",
            "google-cloud-bigtable 2.26.0 requires protobuf!=4.21.0,!=4.21.1,!=4.21.2,!=4.21.3,!=4.21.4,!=4.21.5,<6.0.0dev,>=3.20.2, but you have protobuf 3.19.6 which is incompatible.\n",
            "google-cloud-datastore 2.20.1 requires protobuf!=3.20.0,!=3.20.1,!=4.21.0,!=4.21.1,!=4.21.2,!=4.21.3,!=4.21.4,!=4.21.5,<6.0.0dev,>=3.20.2, but you have protobuf 3.19.6 which is incompatible.\n",
            "google-cloud-firestore 2.19.0 requires protobuf!=3.20.0,!=3.20.1,!=4.21.0,!=4.21.1,!=4.21.2,!=4.21.3,!=4.21.4,!=4.21.5,<6.0.0dev,>=3.20.2, but you have protobuf 3.19.6 which is incompatible.\n",
            "google-cloud-functions 1.18.0 requires protobuf!=4.21.0,!=4.21.1,!=4.21.2,!=4.21.3,!=4.21.4,!=4.21.5,<6.0.0dev,>=3.20.2, but you have protobuf 3.19.6 which is incompatible.\n",
            "google-cloud-iam 2.16.0 requires protobuf!=4.21.0,!=4.21.1,!=4.21.2,!=4.21.3,!=4.21.4,!=4.21.5,<6.0.0dev,>=3.20.2, but you have protobuf 3.19.6 which is incompatible.\n",
            "google-cloud-language 2.15.0 requires protobuf!=4.21.0,!=4.21.1,!=4.21.2,!=4.21.3,!=4.21.4,!=4.21.5,<6.0.0dev,>=3.20.2, but you have protobuf 3.19.6 which is incompatible.\n",
            "google-cloud-pubsub 2.26.1 requires protobuf!=4.21.0,!=4.21.1,!=4.21.2,!=4.21.3,!=4.21.4,!=4.21.5,<6.0.0dev,>=3.20.2, but you have protobuf 3.19.6 which is incompatible.\n",
            "google-cloud-resource-manager 1.13.0 requires protobuf!=4.21.0,!=4.21.1,!=4.21.2,!=4.21.3,!=4.21.4,!=4.21.5,<6.0.0dev,>=3.20.2, but you have protobuf 3.19.6 which is incompatible.\n",
            "google-cloud-translate 3.17.0 requires protobuf!=4.21.0,!=4.21.1,!=4.21.2,!=4.21.3,!=4.21.4,!=4.21.5,<6.0.0dev,>=3.20.2, but you have protobuf 3.19.6 which is incompatible.\n",
            "googleapis-common-protos 1.66.0 requires protobuf!=3.20.0,!=3.20.1,!=4.21.1,!=4.21.2,!=4.21.3,!=4.21.4,!=4.21.5,<6.0.0.dev0,>=3.20.2, but you have protobuf 3.19.6 which is incompatible.\n",
            "grpc-google-iam-v1 0.13.1 requires protobuf!=4.21.1,!=4.21.2,!=4.21.3,!=4.21.4,!=4.21.5,<6.0.0dev,>=3.20.2, but you have protobuf 3.19.6 which is incompatible.\n",
            "grpcio-status 1.62.3 requires protobuf>=4.21.6, but you have protobuf 3.19.6 which is incompatible.\n",
            "pandas-gbq 0.24.0 requires google-auth-oauthlib>=0.7.0, but you have google-auth-oauthlib 0.4.6 which is incompatible.\n",
            "tensorflow-datasets 4.9.7 requires protobuf>=3.20, but you have protobuf 3.19.6 which is incompatible.\n",
            "tensorflow-metadata 1.13.1 requires protobuf<5,>=3.20.3, but you have protobuf 3.19.6 which is incompatible.\n",
            "tf-keras 2.17.0 requires tensorflow<2.18,>=2.17, but you have tensorflow 2.10.1 which is incompatible.\u001b[0m\u001b[31m\n",
            "\u001b[0mSuccessfully installed gast-0.4.0 google-auth-oauthlib-0.4.6 keras-2.10.0 keras-preprocessing-1.1.2 protobuf-3.19.6 tensorboard-2.10.1 tensorboard-data-server-0.6.1 tensorboard-plugin-wit-1.8.1 tensorflow-2.10.1 tensorflow-estimator-2.10.0\n"
          ]
        },
        {
          "output_type": "display_data",
          "data": {
            "application/vnd.colab-display-data+json": {
              "pip_warning": {
                "packages": [
                  "google"
                ]
              },
              "id": "3a3e010c4c1d4e069e5414ec1bc6eb7f"
            }
          },
          "metadata": {}
        }
      ]
    },
    {
      "cell_type": "markdown",
      "metadata": {
        "id": "jC6wuWe4-5vJ"
      },
      "source": [
        "**Import necessary libraries**"
      ]
    },
    {
      "cell_type": "code",
      "execution_count": 2,
      "metadata": {
        "id": "lltHtsIQ-9Cu",
        "colab": {
          "base_uri": "https://localhost:8080/"
        },
        "outputId": "50f8e7c9-ed2a-40ca-c8b3-cddc99f30b43"
      },
      "outputs": [
        {
          "output_type": "stream",
          "name": "stdout",
          "text": [
            "Tensorflow version: 2.10.1\n"
          ]
        }
      ],
      "source": [
        "import tensorflow as tf\n",
        "print(f\"Tensorflow version: {tf.__version__}\")\n",
        "from keras.models import Sequential\n",
        "from keras.layers import Input, Conv2D, MaxPooling2D, Flatten, Dense, Dropout, BatchNormalization\n",
        "from keras.preprocessing.image import ImageDataGenerator\n",
        "from keras.callbacks import EarlyStopping ,ModelCheckpoint\n",
        "import pandas as pd\n",
        "import numpy as np\n",
        "import os\n",
        "import pathlib\n",
        "import matplotlib.pyplot as plt\n",
        "import shutil\n",
        "# # Change directory\n",
        "# cascade_path = pathlib.Path(__file__).parent.absolute()\n",
        "# print(f\"cascade_path: {cascade_path}\")\n",
        "# os.chdir(cascade_path)"
      ]
    },
    {
      "cell_type": "markdown",
      "source": [
        "**Mount Google Drive in Google Colab to access files stored in Google Drive**"
      ],
      "metadata": {
        "id": "uPd-Ul24tCQx"
      }
    },
    {
      "cell_type": "code",
      "execution_count": 3,
      "metadata": {
        "id": "PvURL_pUaAQv",
        "colab": {
          "base_uri": "https://localhost:8080/"
        },
        "outputId": "90e915c2-a872-4dcd-d785-96622a61ad33"
      },
      "outputs": [
        {
          "output_type": "stream",
          "name": "stdout",
          "text": [
            "Mounted at /content/drive\n"
          ]
        }
      ],
      "source": [
        "from google.colab import drive\n",
        "drive.mount('/content/drive')"
      ]
    },
    {
      "cell_type": "markdown",
      "metadata": {
        "id": "2UW0y72bGlHW"
      },
      "source": [
        "**Installing kaggle and Fer2013 dataset**"
      ]
    },
    {
      "cell_type": "code",
      "execution_count": 4,
      "metadata": {
        "id": "lDDdaRb_GuHo",
        "colab": {
          "base_uri": "https://localhost:8080/"
        },
        "outputId": "78d7b119-f52f-4c41-a977-270d7d154405"
      },
      "outputs": [
        {
          "output_type": "stream",
          "name": "stdout",
          "text": [
            "Requirement already satisfied: kaggle in /usr/local/lib/python3.10/dist-packages (1.6.17)\n",
            "Requirement already satisfied: six>=1.10 in /usr/local/lib/python3.10/dist-packages (from kaggle) (1.16.0)\n",
            "Requirement already satisfied: certifi>=2023.7.22 in /usr/local/lib/python3.10/dist-packages (from kaggle) (2024.8.30)\n",
            "Requirement already satisfied: python-dateutil in /usr/local/lib/python3.10/dist-packages (from kaggle) (2.8.2)\n",
            "Requirement already satisfied: requests in /usr/local/lib/python3.10/dist-packages (from kaggle) (2.32.3)\n",
            "Requirement already satisfied: tqdm in /usr/local/lib/python3.10/dist-packages (from kaggle) (4.66.6)\n",
            "Requirement already satisfied: python-slugify in /usr/local/lib/python3.10/dist-packages (from kaggle) (8.0.4)\n",
            "Requirement already satisfied: urllib3 in /usr/local/lib/python3.10/dist-packages (from kaggle) (2.2.3)\n",
            "Requirement already satisfied: bleach in /usr/local/lib/python3.10/dist-packages (from kaggle) (6.2.0)\n",
            "Requirement already satisfied: webencodings in /usr/local/lib/python3.10/dist-packages (from bleach->kaggle) (0.5.1)\n",
            "Requirement already satisfied: text-unidecode>=1.3 in /usr/local/lib/python3.10/dist-packages (from python-slugify->kaggle) (1.3)\n",
            "Requirement already satisfied: charset-normalizer<4,>=2 in /usr/local/lib/python3.10/dist-packages (from requests->kaggle) (3.4.0)\n",
            "Requirement already satisfied: idna<4,>=2.5 in /usr/local/lib/python3.10/dist-packages (from requests->kaggle) (3.10)\n"
          ]
        }
      ],
      "source": [
        "!pip install kaggle"
      ]
    },
    {
      "cell_type": "markdown",
      "source": [
        "**Check if the kaggle.json file is present in the /content directory**"
      ],
      "metadata": {
        "id": "xlc1MmFGmOsH"
      }
    },
    {
      "cell_type": "code",
      "source": [
        "# To access the fer2013 dataset, follow these steps:\n",
        "# 1. Obtain your 'kaggle.json' file by visiting 'https://www.kaggle.com/settings>َAPI>Create new token'.\n",
        "# 2. Create a new token to generate the 'kaggle.json' file.\n",
        "# 3. Use this 'kaggle.json' file to access to Fer2013 dataset.\n",
        "\n",
        "if not os.path.exists('/content/kaggle.json'):\n",
        "    print(\"Please upload the kaggle.json file to the /content directory.\")\n",
        "    from google.colab import files\n",
        "    files.upload()\n",
        "else:\n",
        "    print(\"Already uploaded.\")"
      ],
      "metadata": {
        "id": "_0Vnp3x_mcVc",
        "colab": {
          "base_uri": "https://localhost:8080/",
          "height": 90
        },
        "outputId": "128f9133-6ab4-4f77-ad34-02ba717b08f6"
      },
      "execution_count": 5,
      "outputs": [
        {
          "output_type": "stream",
          "name": "stdout",
          "text": [
            "Please upload the kaggle.json file to the /content directory.\n"
          ]
        },
        {
          "output_type": "display_data",
          "data": {
            "text/plain": [
              "<IPython.core.display.HTML object>"
            ],
            "text/html": [
              "\n",
              "     <input type=\"file\" id=\"files-d2eb2fc3-a84d-4de2-a1eb-7aa1df0c1045\" name=\"files[]\" multiple disabled\n",
              "        style=\"border:none\" />\n",
              "     <output id=\"result-d2eb2fc3-a84d-4de2-a1eb-7aa1df0c1045\">\n",
              "      Upload widget is only available when the cell has been executed in the\n",
              "      current browser session. Please rerun this cell to enable.\n",
              "      </output>\n",
              "      <script>// Copyright 2017 Google LLC\n",
              "//\n",
              "// Licensed under the Apache License, Version 2.0 (the \"License\");\n",
              "// you may not use this file except in compliance with the License.\n",
              "// You may obtain a copy of the License at\n",
              "//\n",
              "//      http://www.apache.org/licenses/LICENSE-2.0\n",
              "//\n",
              "// Unless required by applicable law or agreed to in writing, software\n",
              "// distributed under the License is distributed on an \"AS IS\" BASIS,\n",
              "// WITHOUT WARRANTIES OR CONDITIONS OF ANY KIND, either express or implied.\n",
              "// See the License for the specific language governing permissions and\n",
              "// limitations under the License.\n",
              "\n",
              "/**\n",
              " * @fileoverview Helpers for google.colab Python module.\n",
              " */\n",
              "(function(scope) {\n",
              "function span(text, styleAttributes = {}) {\n",
              "  const element = document.createElement('span');\n",
              "  element.textContent = text;\n",
              "  for (const key of Object.keys(styleAttributes)) {\n",
              "    element.style[key] = styleAttributes[key];\n",
              "  }\n",
              "  return element;\n",
              "}\n",
              "\n",
              "// Max number of bytes which will be uploaded at a time.\n",
              "const MAX_PAYLOAD_SIZE = 100 * 1024;\n",
              "\n",
              "function _uploadFiles(inputId, outputId) {\n",
              "  const steps = uploadFilesStep(inputId, outputId);\n",
              "  const outputElement = document.getElementById(outputId);\n",
              "  // Cache steps on the outputElement to make it available for the next call\n",
              "  // to uploadFilesContinue from Python.\n",
              "  outputElement.steps = steps;\n",
              "\n",
              "  return _uploadFilesContinue(outputId);\n",
              "}\n",
              "\n",
              "// This is roughly an async generator (not supported in the browser yet),\n",
              "// where there are multiple asynchronous steps and the Python side is going\n",
              "// to poll for completion of each step.\n",
              "// This uses a Promise to block the python side on completion of each step,\n",
              "// then passes the result of the previous step as the input to the next step.\n",
              "function _uploadFilesContinue(outputId) {\n",
              "  const outputElement = document.getElementById(outputId);\n",
              "  const steps = outputElement.steps;\n",
              "\n",
              "  const next = steps.next(outputElement.lastPromiseValue);\n",
              "  return Promise.resolve(next.value.promise).then((value) => {\n",
              "    // Cache the last promise value to make it available to the next\n",
              "    // step of the generator.\n",
              "    outputElement.lastPromiseValue = value;\n",
              "    return next.value.response;\n",
              "  });\n",
              "}\n",
              "\n",
              "/**\n",
              " * Generator function which is called between each async step of the upload\n",
              " * process.\n",
              " * @param {string} inputId Element ID of the input file picker element.\n",
              " * @param {string} outputId Element ID of the output display.\n",
              " * @return {!Iterable<!Object>} Iterable of next steps.\n",
              " */\n",
              "function* uploadFilesStep(inputId, outputId) {\n",
              "  const inputElement = document.getElementById(inputId);\n",
              "  inputElement.disabled = false;\n",
              "\n",
              "  const outputElement = document.getElementById(outputId);\n",
              "  outputElement.innerHTML = '';\n",
              "\n",
              "  const pickedPromise = new Promise((resolve) => {\n",
              "    inputElement.addEventListener('change', (e) => {\n",
              "      resolve(e.target.files);\n",
              "    });\n",
              "  });\n",
              "\n",
              "  const cancel = document.createElement('button');\n",
              "  inputElement.parentElement.appendChild(cancel);\n",
              "  cancel.textContent = 'Cancel upload';\n",
              "  const cancelPromise = new Promise((resolve) => {\n",
              "    cancel.onclick = () => {\n",
              "      resolve(null);\n",
              "    };\n",
              "  });\n",
              "\n",
              "  // Wait for the user to pick the files.\n",
              "  const files = yield {\n",
              "    promise: Promise.race([pickedPromise, cancelPromise]),\n",
              "    response: {\n",
              "      action: 'starting',\n",
              "    }\n",
              "  };\n",
              "\n",
              "  cancel.remove();\n",
              "\n",
              "  // Disable the input element since further picks are not allowed.\n",
              "  inputElement.disabled = true;\n",
              "\n",
              "  if (!files) {\n",
              "    return {\n",
              "      response: {\n",
              "        action: 'complete',\n",
              "      }\n",
              "    };\n",
              "  }\n",
              "\n",
              "  for (const file of files) {\n",
              "    const li = document.createElement('li');\n",
              "    li.append(span(file.name, {fontWeight: 'bold'}));\n",
              "    li.append(span(\n",
              "        `(${file.type || 'n/a'}) - ${file.size} bytes, ` +\n",
              "        `last modified: ${\n",
              "            file.lastModifiedDate ? file.lastModifiedDate.toLocaleDateString() :\n",
              "                                    'n/a'} - `));\n",
              "    const percent = span('0% done');\n",
              "    li.appendChild(percent);\n",
              "\n",
              "    outputElement.appendChild(li);\n",
              "\n",
              "    const fileDataPromise = new Promise((resolve) => {\n",
              "      const reader = new FileReader();\n",
              "      reader.onload = (e) => {\n",
              "        resolve(e.target.result);\n",
              "      };\n",
              "      reader.readAsArrayBuffer(file);\n",
              "    });\n",
              "    // Wait for the data to be ready.\n",
              "    let fileData = yield {\n",
              "      promise: fileDataPromise,\n",
              "      response: {\n",
              "        action: 'continue',\n",
              "      }\n",
              "    };\n",
              "\n",
              "    // Use a chunked sending to avoid message size limits. See b/62115660.\n",
              "    let position = 0;\n",
              "    do {\n",
              "      const length = Math.min(fileData.byteLength - position, MAX_PAYLOAD_SIZE);\n",
              "      const chunk = new Uint8Array(fileData, position, length);\n",
              "      position += length;\n",
              "\n",
              "      const base64 = btoa(String.fromCharCode.apply(null, chunk));\n",
              "      yield {\n",
              "        response: {\n",
              "          action: 'append',\n",
              "          file: file.name,\n",
              "          data: base64,\n",
              "        },\n",
              "      };\n",
              "\n",
              "      let percentDone = fileData.byteLength === 0 ?\n",
              "          100 :\n",
              "          Math.round((position / fileData.byteLength) * 100);\n",
              "      percent.textContent = `${percentDone}% done`;\n",
              "\n",
              "    } while (position < fileData.byteLength);\n",
              "  }\n",
              "\n",
              "  // All done.\n",
              "  yield {\n",
              "    response: {\n",
              "      action: 'complete',\n",
              "    }\n",
              "  };\n",
              "}\n",
              "\n",
              "scope.google = scope.google || {};\n",
              "scope.google.colab = scope.google.colab || {};\n",
              "scope.google.colab._files = {\n",
              "  _uploadFiles,\n",
              "  _uploadFilesContinue,\n",
              "};\n",
              "})(self);\n",
              "</script> "
            ]
          },
          "metadata": {}
        },
        {
          "output_type": "stream",
          "name": "stdout",
          "text": [
            "Saving kaggle.json to kaggle.json\n"
          ]
        }
      ]
    },
    {
      "cell_type": "markdown",
      "source": [
        "**Downloading fer2013 dataset from Kaggle using kaggle API**"
      ],
      "metadata": {
        "id": "PNZffzx9jGKp"
      }
    },
    {
      "cell_type": "code",
      "execution_count": 6,
      "metadata": {
        "id": "vdyhVEVsS-eI",
        "colab": {
          "base_uri": "https://localhost:8080/"
        },
        "outputId": "09713ead-7a99-4685-8d7b-4a633b528eed"
      },
      "outputs": [
        {
          "output_type": "stream",
          "name": "stdout",
          "text": [
            "kaggle.json\n",
            "ls: cannot access '/content/datasets': No such file or directory\n",
            "kaggle.json\n",
            "ref                                                          title                                               size  lastUpdated          downloadCount  voteCount  usabilityRating  \n",
            "-----------------------------------------------------------  -------------------------------------------------  -----  -------------------  -------------  ---------  ---------------  \n",
            "muhammadroshaanriaz/students-performance-dataset-cleaned     Students Performance | Clean Dataset                10KB  2024-10-29 19:32:26           5073         93  1.0              \n",
            "valakhorasani/mobile-device-usage-and-user-behavior-dataset  Mobile Device Usage and User Behavior Dataset       11KB  2024-09-28 20:21:12          26376        520  1.0              \n",
            "ironwolf437/laptop-price-dataset                             Laptop Price - dataset‏                             25KB  2024-11-12 15:50:44           1165         28  1.0              \n",
            "steve1215rogg/student-lifestyle-dataset                      student lifestyle dataset                           22KB  2024-11-11 19:11:28           2169         40  1.0              \n",
            "valakhorasani/gym-members-exercise-dataset                   Gym Members Exercise Dataset                        22KB  2024-10-06 11:27:38          15606        216  1.0              \n",
            "willianoliveiragibin/greenhouse-gas-emissions                Greenhouse Gas Emissions                           216KB  2024-10-31 22:40:59           1402         28  1.0              \n",
            "prajwaldongre/top-dog-breeds-around-the-world                150+ Dog Breeds Around the World                     5KB  2024-11-07 07:58:56            924         21  1.0              \n",
            "taweilo/loan-approval-classification-data                    Loan Approval Classification Dataset               751KB  2024-10-29 04:07:34           3744         53  1.0              \n",
            "computingvictor/transactions-fraud-datasets                  💳 Financial Transactions Dataset: Analytics        348MB  2024-10-31 21:29:56           2759         47  1.0              \n",
            "kusumakar/gold-prices-for-5-years-financial-predictions      Gold Prices for 5 years | Financial  Predictions    24KB  2024-11-11 05:27:26           1018         22  0.7647059        \n",
            "rezwananik/south-asia-growth-and-development-data-2000-23    South Asian Growth & Development Data (2000-23)     27KB  2024-10-31 15:03:26           1314         29  0.9411765        \n",
            "aadyasingh55/impact-of-social-media-on-suicide-rates         Impact of social media on suicide rates             811B  2024-10-21 11:10:02           1747         27  1.0              \n",
            "uom190346a/mental-health-diagnosis-and-treatment-monitoring  Mental Health Diagnosis and Treatment Monitoring    10KB  2024-11-07 05:49:42           1512         36  1.0              \n",
            "octopusteam/full-hbo-max-dataset                             Full HBO Max Dataset                               167KB  2024-11-16 09:00:34           1691         29  1.0              \n",
            "valakhorasani/bank-transaction-dataset-for-fraud-detection   Bank Transaction Dataset for Fraud Detection       102KB  2024-11-04 09:23:49           1923         42  1.0              \n",
            "fundal/sat-by-year-and-gender-1967-2001                      SAT 🎓 Student scores by YEAR & GENDER | 1967-2001   799B  2024-10-31 08:34:47           1340         28  1.0              \n",
            "dansbecker/melbourne-housing-snapshot                        Melbourne Housing Snapshot                         451KB  2018-06-05 12:52:24         163508       1543  0.7058824        \n",
            "jakewright/9000-tickers-of-stock-market-data-full-history    9000+ Tickers of Stock Market Data (Full History)    2GB  2024-11-13 13:11:38            429         28  1.0              \n",
            "brsahan/advertising-spend-vs-sales                           Advertising Spend vs Sales                           2KB  2024-11-08 15:54:21           1151         32  1.0              \n",
            "brsahan/data-science-job                                     Data Science Job                                    80KB  2024-11-03 10:13:11           1456         47  1.0              \n",
            "Dataset URL: https://www.kaggle.com/datasets/deadskull7/fer2013\n",
            "License(s): CC0-1.0\n",
            "Downloading fer2013.zip to /content/datasets\n",
            " 99% 96.0M/96.6M [00:06<00:00, 17.2MB/s]\n",
            "100% 96.6M/96.6M [00:06<00:00, 16.2MB/s]\n",
            "Archive:  /content/datasets/fer2013.zip\n",
            "  inflating: /content/datasets/fer2013.csv  \n",
            "fer2013.csv  fer2013.zip\n"
          ]
        }
      ],
      "source": [
        "# Make sure the .kaggle directory exists in the /content directory\n",
        "!mkdir -p /content/kaggle\n",
        "# Copy the kaggle.json file to the .kaggle directory\n",
        "!cp /content/kaggle.json /content/kaggle/kaggle.json\n",
        "# List the files in the /content/kaggle directory to verify the copy\n",
        "!ls /content/kaggle\n",
        "# List the files in the /content/datasets directory to check if the datasets folder exists\n",
        "!ls /content/datasets\n",
        "# Set appropriate permissions for the kaggle.json file\n",
        "!chmod 600 /content/kaggle/kaggle.json\n",
        "# Set the KAGGLE_CONFIG_DIR environment variable to /content/kaggle\n",
        "os.environ['KAGGLE_CONFIG_DIR'] = '/content/kaggle'\n",
        "# Verify the content of the .kaggle directory\n",
        "!ls /content/kaggle\n",
        "# Now you can use the Kaggle API without authentication issues\n",
        "!kaggle datasets list\n",
        "# Check if the fer2013 file is present in the /content/datasets directory\n",
        "if not os.path.exists('/content/datasets/fer2013.csv'):\n",
        "    # Make sure the datasets directory exists in the /content directory\n",
        "    !mkdir -p /content/datasets\n",
        "    # Download the desired Kaggle dataset to the /content/datasets directory\n",
        "    !kaggle datasets download -d deadskull7/fer2013 -p /content/datasets/\n",
        "    # Unzip the downloaded dataset\n",
        "    !unzip /content/datasets/fer2013.zip -d /content/datasets\n",
        "    # List the files in the /content/datasets directory to verify the download\n",
        "    !ls /content/datasets"
      ]
    },
    {
      "cell_type": "markdown",
      "metadata": {
        "id": "RXnDslXn_CCB"
      },
      "source": [
        "**Loading the dataset**"
      ]
    },
    {
      "cell_type": "code",
      "execution_count": 7,
      "metadata": {
        "id": "4rqajwi0_FsK",
        "colab": {
          "base_uri": "https://localhost:8080/"
        },
        "outputId": "1c0d8823-a319-42e7-d675-1062b5b0e8b0"
      },
      "outputs": [
        {
          "output_type": "stream",
          "name": "stdout",
          "text": [
            "columns of the dataset: Index(['emotion', 'pixels', 'Usage'], dtype='object')\n"
          ]
        }
      ],
      "source": [
        "# Preprocess the dataset\n",
        "df = pd.read_csv('/content/datasets/fer2013.csv')\n",
        "# df = pd.read_csv('fer2013.csv')\n",
        "\n",
        "# Printing columns of the dataset\n",
        "columns = df.columns\n",
        "print(f\"columns of the dataset: {columns}\")\n",
        "\n",
        "# Split the dataset into train and test sets\n",
        "train_data = df.loc[df['Usage'] == 'Training']\n",
        "test_data = df.loc[df['Usage'] == 'PrivateTest']\n",
        "\n",
        "# Get the training images\n",
        "x_train = np.array(list(map(str.split, train_data['pixels']))).astype(float)\n",
        "# Get the training labels\n",
        "y_train = train_data['emotion'].values\n",
        "\n",
        "# Get the test images\n",
        "x_test = np.array(list(map(str.split, test_data['pixels']))).astype(float)\n",
        "# Get the test labels\n",
        "y_test = test_data['emotion'].values\n",
        "\n",
        "num_classes = 7\n",
        "\n",
        "# Reshape the training and test images\n",
        "x_train = x_train.reshape(x_train.shape[0], 48, 48, 1).astype('float32')\n",
        "x_test = x_test.reshape(x_test.shape[0], 48, 48, 1).astype('float32')\n",
        "\n",
        "# Normalize the training and test images\n",
        "x_train /= 255.0\n",
        "x_test /= 255.0\n",
        "\n",
        "# Convert the training and test labels to categorical variables\n",
        "y_train = tf.keras.utils.to_categorical(y_train, num_classes)\n",
        "y_test = tf.keras.utils.to_categorical(y_test, num_classes)"
      ]
    },
    {
      "cell_type": "markdown",
      "metadata": {
        "id": "jRcOZYleRdbx"
      },
      "source": [
        "**Define data augmentation**"
      ]
    },
    {
      "cell_type": "code",
      "execution_count": 8,
      "metadata": {
        "id": "RwlrhhPWReNf"
      },
      "outputs": [],
      "source": [
        "# Define data augmentation\n",
        "data_augmentation = ImageDataGenerator(\n",
        "    # rotation_range=7,\n",
        "    # width_shift_range=0.1,\n",
        "    # height_shift_range=0.1,\n",
        "    horizontal_flip=True,\n",
        "    # vertical_flip=True,\n",
        ")"
      ]
    },
    {
      "cell_type": "markdown",
      "metadata": {
        "id": "_I3ecXl__N5S"
      },
      "source": [
        "**Defining the model**"
      ]
    },
    {
      "cell_type": "code",
      "execution_count": 9,
      "metadata": {
        "id": "GM2FZYWW_Rsy"
      },
      "outputs": [],
      "source": [
        "# Define the model\n",
        "model = Sequential([\n",
        "    Input(shape=(48, 48, 1)),\n",
        "    Conv2D(128, (3, 3), activation='relu'),\n",
        "    MaxPooling2D((2, 2)),\n",
        "    BatchNormalization(),\n",
        "    Conv2D(64, (3, 3), activation='relu'),\n",
        "    MaxPooling2D((2, 2)),\n",
        "    BatchNormalization(),\n",
        "    Conv2D(32, (3, 3), activation='relu'),\n",
        "    MaxPooling2D((2, 2)),\n",
        "    BatchNormalization(),\n",
        "    Conv2D(16, (3, 3), activation='relu'),\n",
        "    MaxPooling2D((2, 2)),\n",
        "    BatchNormalization(),\n",
        "\n",
        "    Flatten(),\n",
        "    BatchNormalization(),\n",
        "    Dense(16, activation='relu'),\n",
        "    Dropout(0.1),\n",
        "    Dense(8, activation='relu'),\n",
        "    # Dropout(0.2),\n",
        "    Dense(7, activation='softmax')\n",
        "])\n",
        "\n",
        "# Compile the model\n",
        "initial_learning_rate = 0.001\n",
        "opt = tf.keras.optimizers.Adam(learning_rate=initial_learning_rate)\n",
        "\n",
        "# # Define the learning rate scheduler\n",
        "# def scheduler(epoch, learning_rate):\n",
        "#     if epoch < 8:\n",
        "#         return learning_rate\n",
        "#     elif 7<epoch<50:\n",
        "#         return learning_rate * tf.math.exp(-0.001)\n",
        "#     elif epoch>49:\n",
        "#         return learning_rate * tf.math.exp(-0.01)\n",
        "\n",
        "model.compile(optimizer=opt, loss='categorical_crossentropy', metrics=['accuracy'])"
      ]
    },
    {
      "cell_type": "markdown",
      "metadata": {
        "id": "pqfPhjIO_Yuz"
      },
      "source": [
        "**Fitting the model**"
      ]
    },
    {
      "cell_type": "code",
      "execution_count": 10,
      "metadata": {
        "id": "8LITnc_c_cv6",
        "colab": {
          "base_uri": "https://localhost:8080/"
        },
        "outputId": "bf9d1a17-9238-412a-8caa-80c64be36a27"
      },
      "outputs": [
        {
          "output_type": "stream",
          "name": "stdout",
          "text": [
            "Epoch 1/20\n",
            "449/449 [==============================] - ETA: 0s - loss: 1.7481 - accuracy: 0.2867\n",
            "Epoch 1: val_loss improved from inf to 1.70387, saving model to /content/best_model.h5\n",
            "449/449 [==============================] - 285s 632ms/step - loss: 1.7481 - accuracy: 0.2867 - val_loss: 1.7039 - val_accuracy: 0.3555\n",
            "Epoch 2/20\n",
            "449/449 [==============================] - ETA: 0s - loss: 1.5235 - accuracy: 0.4089\n",
            "Epoch 2: val_loss improved from 1.70387 to 1.68105, saving model to /content/best_model.h5\n",
            "449/449 [==============================] - 284s 633ms/step - loss: 1.5235 - accuracy: 0.4089 - val_loss: 1.6810 - val_accuracy: 0.3561\n",
            "Epoch 3/20\n",
            "449/449 [==============================] - ETA: 0s - loss: 1.3907 - accuracy: 0.4733\n",
            "Epoch 3: val_loss improved from 1.68105 to 1.41730, saving model to /content/best_model.h5\n",
            "449/449 [==============================] - 285s 635ms/step - loss: 1.3907 - accuracy: 0.4733 - val_loss: 1.4173 - val_accuracy: 0.4464\n",
            "Epoch 4/20\n",
            "449/449 [==============================] - ETA: 0s - loss: 1.3171 - accuracy: 0.5007\n",
            "Epoch 4: val_loss did not improve from 1.41730\n",
            "449/449 [==============================] - 289s 645ms/step - loss: 1.3171 - accuracy: 0.5007 - val_loss: 1.4787 - val_accuracy: 0.4483\n",
            "Epoch 5/20\n",
            "449/449 [==============================] - ETA: 0s - loss: 1.2610 - accuracy: 0.5226\n",
            "Epoch 5: val_loss did not improve from 1.41730\n",
            "449/449 [==============================] - 289s 643ms/step - loss: 1.2610 - accuracy: 0.5226 - val_loss: 1.5272 - val_accuracy: 0.4447\n",
            "Epoch 6/20\n",
            "449/449 [==============================] - ETA: 0s - loss: 1.2232 - accuracy: 0.5394\n",
            "Epoch 6: val_loss improved from 1.41730 to 1.26219, saving model to /content/best_model.h5\n",
            "449/449 [==============================] - 284s 634ms/step - loss: 1.2232 - accuracy: 0.5394 - val_loss: 1.2622 - val_accuracy: 0.5227\n",
            "Epoch 7/20\n",
            "449/449 [==============================] - ETA: 0s - loss: 1.1971 - accuracy: 0.5487\n",
            "Epoch 7: val_loss improved from 1.26219 to 1.23750, saving model to /content/best_model.h5\n",
            "449/449 [==============================] - 289s 643ms/step - loss: 1.1971 - accuracy: 0.5487 - val_loss: 1.2375 - val_accuracy: 0.5263\n",
            "Epoch 8/20\n",
            "449/449 [==============================] - ETA: 0s - loss: 1.1598 - accuracy: 0.5631\n",
            "Epoch 8: val_loss did not improve from 1.23750\n",
            "449/449 [==============================] - 289s 643ms/step - loss: 1.1598 - accuracy: 0.5631 - val_loss: 1.3026 - val_accuracy: 0.5065\n",
            "Epoch 9/20\n",
            "449/449 [==============================] - ETA: 0s - loss: 1.1467 - accuracy: 0.5676\n",
            "Epoch 9: val_loss improved from 1.23750 to 1.22747, saving model to /content/best_model.h5\n",
            "449/449 [==============================] - 292s 651ms/step - loss: 1.1467 - accuracy: 0.5676 - val_loss: 1.2275 - val_accuracy: 0.5261\n",
            "Epoch 10/20\n",
            "449/449 [==============================] - ETA: 0s - loss: 1.1222 - accuracy: 0.5776\n",
            "Epoch 10: val_loss improved from 1.22747 to 1.19227, saving model to /content/best_model.h5\n",
            "449/449 [==============================] - 290s 647ms/step - loss: 1.1222 - accuracy: 0.5776 - val_loss: 1.1923 - val_accuracy: 0.5389\n",
            "Epoch 11/20\n",
            "449/449 [==============================] - ETA: 0s - loss: 1.1008 - accuracy: 0.5841\n",
            "Epoch 11: val_loss improved from 1.19227 to 1.17237, saving model to /content/best_model.h5\n",
            "449/449 [==============================] - 296s 659ms/step - loss: 1.1008 - accuracy: 0.5841 - val_loss: 1.1724 - val_accuracy: 0.5581\n",
            "Epoch 12/20\n",
            "449/449 [==============================] - ETA: 0s - loss: 1.0869 - accuracy: 0.5892\n",
            "Epoch 12: val_loss did not improve from 1.17237\n",
            "449/449 [==============================] - 293s 652ms/step - loss: 1.0869 - accuracy: 0.5892 - val_loss: 1.2006 - val_accuracy: 0.5380\n",
            "Epoch 13/20\n",
            "449/449 [==============================] - ETA: 0s - loss: 1.0679 - accuracy: 0.5986\n",
            "Epoch 13: val_loss did not improve from 1.17237\n",
            "449/449 [==============================] - 291s 649ms/step - loss: 1.0679 - accuracy: 0.5986 - val_loss: 1.2173 - val_accuracy: 0.5297\n",
            "Epoch 14/20\n",
            "449/449 [==============================] - ETA: 0s - loss: 1.0503 - accuracy: 0.6053\n",
            "Epoch 14: val_loss did not improve from 1.17237\n",
            "449/449 [==============================] - 295s 657ms/step - loss: 1.0503 - accuracy: 0.6053 - val_loss: 1.3121 - val_accuracy: 0.5079\n",
            "Epoch 15/20\n",
            "449/449 [==============================] - ETA: 0s - loss: 1.0369 - accuracy: 0.6099\n",
            "Epoch 15: val_loss did not improve from 1.17237\n",
            "449/449 [==============================] - 290s 647ms/step - loss: 1.0369 - accuracy: 0.6099 - val_loss: 1.1947 - val_accuracy: 0.5469\n",
            "Epoch 16/20\n",
            "449/449 [==============================] - ETA: 0s - loss: 1.0230 - accuracy: 0.6130\n",
            "Epoch 16: val_loss did not improve from 1.17237\n",
            "449/449 [==============================] - 289s 644ms/step - loss: 1.0230 - accuracy: 0.6130 - val_loss: 1.2789 - val_accuracy: 0.5442\n"
          ]
        }
      ],
      "source": [
        "# Fit the model\n",
        "batch_size = 64\n",
        "epochs = 20\n",
        "# lr_scheduler = tf.keras.callbacks.LearningRateScheduler(scheduler)\n",
        "\n",
        "# Define the early stopping and model checkpoint callbacks\n",
        "early_stop = EarlyStopping(monitor='val_loss', patience=5, restore_best_weights=True)\n",
        "# Save the best model\n",
        "model_checkpoint = ModelCheckpoint('/content/best_model.h5', monitor='val_loss', save_best_only=True, verbose=1)\n",
        "\n",
        "history = model.fit(\n",
        "    data_augmentation.flow(x_train, y_train, batch_size=batch_size),\n",
        "    # x_train, y_train,\n",
        "    # batch_size=batch_size,\n",
        "    # steps_per_epoch=len(x_train) / batch_size,\n",
        "    epochs=epochs,\n",
        "    validation_data=(x_test, y_test),\n",
        "    callbacks=[ early_stop, model_checkpoint] #lr_scheduler,\n",
        ")"
      ]
    },
    {
      "cell_type": "markdown",
      "metadata": {
        "id": "9fCqsIGj_e5K"
      },
      "source": [
        "**Saving the model with the latest accuracy obtained**"
      ]
    },
    {
      "cell_type": "code",
      "execution_count": 11,
      "metadata": {
        "id": "kOWWMqOy_inC"
      },
      "outputs": [],
      "source": [
        "filename = 'emotion_detection_model.h5'\n",
        "filepath = '/content/' + filename\n",
        "model.save(filepath)\n",
        "# model.save('emotion_detection_model.h5')"
      ]
    },
    {
      "cell_type": "markdown",
      "metadata": {
        "id": "0s_2CQEo4cC0"
      },
      "source": [
        "**Plot the training and validation loss and accuracy values over the epochs**"
      ]
    },
    {
      "cell_type": "code",
      "execution_count": 12,
      "metadata": {
        "id": "FBh5pDIr4jV7",
        "colab": {
          "base_uri": "https://localhost:8080/",
          "height": 495
        },
        "outputId": "708144ea-ac20-4c62-a525-839abab6d076"
      },
      "outputs": [
        {
          "output_type": "display_data",
          "data": {
            "text/plain": [
              "<Figure size 400x200 with 1 Axes>"
            ],
            "image/png": "[encoded data removed]"
          },
          "metadata": {}
        },
        {
          "output_type": "display_data",
          "data": {
            "text/plain": [
              "<Figure size 400x200 with 1 Axes>"
            ],
            "image/png": "[encoded data removed]"
          },
          "metadata": {}
        }
      ],
      "source": [
        "# Plot training and validation loss\n",
        "plt.figure(figsize=(4, 2))\n",
        "plt.plot(history.history['loss'], label='Training Loss')\n",
        "plt.plot(history.history['val_loss'], label='Validation Loss')\n",
        "plt.xlabel('Epoch')\n",
        "plt.ylabel('Loss')\n",
        "plt.title('Training and Validation Loss')\n",
        "plt.legend()\n",
        "plt.show()\n",
        "\n",
        "# Plot training and validation accuracy\n",
        "plt.figure(figsize=(4, 2))\n",
        "plt.plot(history.history['accuracy'], label='Training Accuracy')\n",
        "plt.plot(history.history['val_accuracy'], label='Validation Accuracy')\n",
        "plt.xlabel('Epoch')\n",
        "plt.ylabel('Accuracy')\n",
        "plt.title('Training and Validation Accuracy')\n",
        "plt.legend()\n",
        "plt.show()"
      ]
    },
    {
      "cell_type": "code",
      "source": [
        "import numpy as np\n",
        "from sklearn.metrics import confusion_matrix\n",
        "import seaborn as sns\n",
        "import matplotlib.pyplot as plt\n",
        "import tensorflow as tf\n",
        "\n",
        "# Get predictions on the test set\n",
        "y_pred = model.predict(x_test)\n",
        "\n",
        "# Convert predictions from one-hot encoding to class labels\n",
        "y_pred_classes = np.argmax(y_pred, axis=1)\n",
        "\n",
        "# Convert y_test from one-hot encoding to class labels\n",
        "y_true_classes = np.argmax(y_test, axis=1)\n",
        "\n",
        "# Compute the confusion matrix\n",
        "cm = confusion_matrix(y_true_classes, y_pred_classes)\n",
        "\n",
        "# Plot the confusion matrix using seaborn heatmap\n",
        "plt.figure(figsize=(6, 4))\n",
        "sns.heatmap(cm, annot=True, fmt='d', cmap='Blues', xticklabels=np.arange(0, 7), yticklabels=np.arange(0, 7))\n",
        "plt.xlabel('Predicted')\n",
        "plt.ylabel('True')\n",
        "plt.title('Confusion Matrix')\n",
        "plt.show()\n"
      ],
      "metadata": {
        "colab": {
          "base_uri": "https://localhost:8080/",
          "height": 427
        },
        "id": "Vwxh-VscZZNr",
        "outputId": "cf9739a5-4ebe-4d98-de75-c0912a7b18d0"
      },
      "execution_count": 13,
      "outputs": [
        {
          "output_type": "stream",
          "name": "stdout",
          "text": [
            "113/113 [==============================] - 10s 88ms/step\n"
          ]
        },
        {
          "output_type": "display_data",
          "data": {
            "text/plain": [
              "<Figure size 600x400 with 2 Axes>"
            ],
            "image/png": "[encoded data removed]"
          },
          "metadata": {}
        }
      ]
    },
    {
      "cell_type": "code",
      "source": [
        "from sklearn.metrics import mean_squared_error\n",
        "import numpy as np\n",
        "\n",
        "# Get predictions on the test set\n",
        "y_pred = model.predict(x_test)\n",
        "\n",
        "# Calculate Mean Squared Error (MSE)\n",
        "mse = mean_squared_error(np.argmax(y_test, axis=1), np.argmax(y_pred, axis=1))\n",
        "\n",
        "# Calculate Root Mean Squared Error (RMSE)\n",
        "rmse = np.sqrt(mse)\n",
        "\n",
        "# Print the results\n",
        "print(f\"Mean Squared Error (MSE): {mse:.4f}\")\n",
        "print(f\"Root Mean Squared Error (RMSE): {rmse:.4f}\")\n"
      ],
      "metadata": {
        "colab": {
          "base_uri": "https://localhost:8080/"
        },
        "id": "KwVeb7cGaGuS",
        "outputId": "e7a0e077-1036-4e5e-b0d0-d8a6f08a1d21"
      },
      "execution_count": 19,
      "outputs": [
        {
          "output_type": "stream",
          "name": "stdout",
          "text": [
            "113/113 [==============================] - 10s 92ms/step\n",
            "Mean Squared Error (MSE): 3.7492\n",
            "Root Mean Squared Error (RMSE): 1.9363\n"
          ]
        }
      ]
    },
    {
      "cell_type": "code",
      "source": [
        "filename = 'best_model.h5'\n",
        "filepath = '/content/' + filename\n",
        "model.save(filepath)\n",
        "\n",
        "# If you want to download the file in a Google Colab environment\n",
        "from google.colab import files\n",
        "files.download(filepath)\n"
      ],
      "metadata": {
        "colab": {
          "base_uri": "https://localhost:8080/",
          "height": 17
        },
        "id": "S509-EfDcCBF",
        "outputId": "5140d443-7d35-4516-9bbc-61d92ebbece6"
      },
      "execution_count": 24,
      "outputs": [
        {
          "output_type": "display_data",
          "data": {
            "text/plain": [
              "<IPython.core.display.Javascript object>"
            ],
            "application/javascript": [
              "\n",
              "    async function download(id, filename, size) {\n",
              "      if (!google.colab.kernel.accessAllowed) {\n",
              "        return;\n",
              "      }\n",
              "      const div = document.createElement('div');\n",
              "      const label = document.createElement('label');\n",
              "      label.textContent = `Downloading \"${filename}\": `;\n",
              "      div.appendChild(label);\n",
              "      const progress = document.createElement('progress');\n",
              "      progress.max = size;\n",
              "      div.appendChild(progress);\n",
              "      document.body.appendChild(div);\n",
              "\n",
              "      const buffers = [];\n",
              "      let downloaded = 0;\n",
              "\n",
              "      const channel = await google.colab.kernel.comms.open(id);\n",
              "      // Send a message to notify the kernel that we're ready.\n",
              "      channel.send({})\n",
              "\n",
              "      for await (const message of channel.messages) {\n",
              "        // Send a message to notify the kernel that we're ready.\n",
              "        channel.send({})\n",
              "        if (message.buffers) {\n",
              "          for (const buffer of message.buffers) {\n",
              "            buffers.push(buffer);\n",
              "            downloaded += buffer.byteLength;\n",
              "            progress.value = downloaded;\n",
              "          }\n",
              "        }\n",
              "      }\n",
              "      const blob = new Blob(buffers, {type: 'application/binary'});\n",
              "      const a = document.createElement('a');\n",
              "      a.href = window.URL.createObjectURL(blob);\n",
              "      a.download = filename;\n",
              "      div.appendChild(a);\n",
              "      a.click();\n",
              "      div.remove();\n",
              "    }\n",
              "  "
            ]
          },
          "metadata": {}
        },
        {
          "output_type": "display_data",
          "data": {
            "text/plain": [
              "<IPython.core.display.Javascript object>"
            ],
            "application/javascript": [
              "download(\"download_2f10057f-a0c5-434d-9eca-aad5346ae520\", \"best_model.h5\", 1308552)"
            ]
          },
          "metadata": {}
        }
      ]
    }
  ],
  "metadata": {
    "accelerator": "GPU",
    "colab": {
      "provenance": [],
      "gpuType": "T4"
    },
    "kernelspec": {
      "display_name": "Python 3",
      "name": "python3"
    },
    "language_info": {
      "name": "python"
    }
  },
  "nbformat": 4,
  "nbformat_minor": 0
}